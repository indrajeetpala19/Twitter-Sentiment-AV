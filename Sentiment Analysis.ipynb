{
 "cells": [
  {
   "cell_type": "code",
   "execution_count": 1,
   "metadata": {},
   "outputs": [
    {
     "name": "stderr",
     "output_type": "stream",
     "text": [
      "[nltk_data] Downloading package stopwords to\n",
      "[nltk_data]     C:\\Users\\indra\\AppData\\Roaming\\nltk_data...\n",
      "[nltk_data]   Unzipping corpora\\stopwords.zip.\n"
     ]
    },
    {
     "data": {
      "text/plain": [
       "True"
      ]
     },
     "execution_count": 1,
     "metadata": {},
     "output_type": "execute_result"
    }
   ],
   "source": [
    "import numpy as np\n",
    "import pandas as pd\n",
    "import seaborn as sns\n",
    "import matplotlib.pyplot as plt\n",
    "%matplotlib inline\n",
    "import warnings\n",
    "warnings.filterwarnings('ignore')\n",
    "import nltk\n",
    "nltk.download(\"stopwords\")"
   ]
  },
  {
   "cell_type": "code",
   "execution_count": 2,
   "metadata": {},
   "outputs": [],
   "source": [
    "train_df = pd.read_csv(\"train_E6oV3lV.csv\")\n",
    "test_df = pd.read_csv(\"test_tweets_anuFYb8.csv\")"
   ]
  },
  {
   "cell_type": "code",
   "execution_count": 3,
   "metadata": {},
   "outputs": [
    {
     "name": "stdout",
     "output_type": "stream",
     "text": [
      "<class 'pandas.core.frame.DataFrame'>\n",
      "RangeIndex: 31962 entries, 0 to 31961\n",
      "Data columns (total 3 columns):\n",
      " #   Column  Non-Null Count  Dtype \n",
      "---  ------  --------------  ----- \n",
      " 0   id      31962 non-null  int64 \n",
      " 1   label   31962 non-null  int64 \n",
      " 2   tweet   31962 non-null  object\n",
      "dtypes: int64(2), object(1)\n",
      "memory usage: 749.2+ KB\n",
      "-----------------------------------------\n",
      "<class 'pandas.core.frame.DataFrame'>\n",
      "RangeIndex: 17197 entries, 0 to 17196\n",
      "Data columns (total 2 columns):\n",
      " #   Column  Non-Null Count  Dtype \n",
      "---  ------  --------------  ----- \n",
      " 0   id      17197 non-null  int64 \n",
      " 1   tweet   17197 non-null  object\n",
      "dtypes: int64(1), object(1)\n",
      "memory usage: 268.8+ KB\n"
     ]
    }
   ],
   "source": [
    "train_df.info()\n",
    "print(\"-----------------------------------------\")\n",
    "test_df.info()"
   ]
  },
  {
   "cell_type": "code",
   "execution_count": 13,
   "metadata": {},
   "outputs": [],
   "source": [
    "import string\n",
    "def text_process(mess):\n",
    "    \"\"\"\n",
    "    Takes in a string of text, then performs the following:\n",
    "    1. Remove all punctuation\n",
    "    2. Remove all stopwords\n",
    "    3. Returns a list of the cleaned text\n",
    "    \"\"\"\n",
    "    # Check characters to see if they are in punctuation\n",
    "    nopunc = [char for char in mess if char not in string.punctuation]\n",
    "\n",
    "    # Join the characters again to form the string.\n",
    "    nopunc = ''.join(nopunc)\n",
    "    \n",
    "    # Now just remove any stopwords\n",
    "    return [word for word in nopunc.split() if word.lower() not in stopwords.words('english')]"
   ]
  },
  {
   "cell_type": "code",
   "execution_count": 5,
   "metadata": {},
   "outputs": [
    {
     "data": {
      "text/html": [
       "<div>\n",
       "<style scoped>\n",
       "    .dataframe tbody tr th:only-of-type {\n",
       "        vertical-align: middle;\n",
       "    }\n",
       "\n",
       "    .dataframe tbody tr th {\n",
       "        vertical-align: top;\n",
       "    }\n",
       "\n",
       "    .dataframe thead th {\n",
       "        text-align: right;\n",
       "    }\n",
       "</style>\n",
       "<table border=\"1\" class=\"dataframe\">\n",
       "  <thead>\n",
       "    <tr style=\"text-align: right;\">\n",
       "      <th></th>\n",
       "      <th>id</th>\n",
       "      <th>label</th>\n",
       "      <th>tweet</th>\n",
       "    </tr>\n",
       "  </thead>\n",
       "  <tbody>\n",
       "    <tr>\n",
       "      <th>0</th>\n",
       "      <td>1</td>\n",
       "      <td>0</td>\n",
       "      <td>@user when a father is dysfunctional and is s...</td>\n",
       "    </tr>\n",
       "    <tr>\n",
       "      <th>1</th>\n",
       "      <td>2</td>\n",
       "      <td>0</td>\n",
       "      <td>@user @user thanks for #lyft credit i can't us...</td>\n",
       "    </tr>\n",
       "    <tr>\n",
       "      <th>2</th>\n",
       "      <td>3</td>\n",
       "      <td>0</td>\n",
       "      <td>bihday your majesty</td>\n",
       "    </tr>\n",
       "    <tr>\n",
       "      <th>3</th>\n",
       "      <td>4</td>\n",
       "      <td>0</td>\n",
       "      <td>#model   i love u take with u all the time in ...</td>\n",
       "    </tr>\n",
       "    <tr>\n",
       "      <th>4</th>\n",
       "      <td>5</td>\n",
       "      <td>0</td>\n",
       "      <td>factsguide: society now    #motivation</td>\n",
       "    </tr>\n",
       "    <tr>\n",
       "      <th>5</th>\n",
       "      <td>6</td>\n",
       "      <td>0</td>\n",
       "      <td>[2/2] huge fan fare and big talking before the...</td>\n",
       "    </tr>\n",
       "    <tr>\n",
       "      <th>6</th>\n",
       "      <td>7</td>\n",
       "      <td>0</td>\n",
       "      <td>@user camping tomorrow @user @user @user @use...</td>\n",
       "    </tr>\n",
       "    <tr>\n",
       "      <th>7</th>\n",
       "      <td>8</td>\n",
       "      <td>0</td>\n",
       "      <td>the next school year is the year for exams.ð...</td>\n",
       "    </tr>\n",
       "    <tr>\n",
       "      <th>8</th>\n",
       "      <td>9</td>\n",
       "      <td>0</td>\n",
       "      <td>we won!!! love the land!!! #allin #cavs #champ...</td>\n",
       "    </tr>\n",
       "    <tr>\n",
       "      <th>9</th>\n",
       "      <td>10</td>\n",
       "      <td>0</td>\n",
       "      <td>@user @user welcome here !  i'm   it's so #gr...</td>\n",
       "    </tr>\n",
       "  </tbody>\n",
       "</table>\n",
       "</div>"
      ],
      "text/plain": [
       "   id  label                                              tweet\n",
       "0   1      0   @user when a father is dysfunctional and is s...\n",
       "1   2      0  @user @user thanks for #lyft credit i can't us...\n",
       "2   3      0                                bihday your majesty\n",
       "3   4      0  #model   i love u take with u all the time in ...\n",
       "4   5      0             factsguide: society now    #motivation\n",
       "5   6      0  [2/2] huge fan fare and big talking before the...\n",
       "6   7      0   @user camping tomorrow @user @user @user @use...\n",
       "7   8      0  the next school year is the year for exams.ð...\n",
       "8   9      0  we won!!! love the land!!! #allin #cavs #champ...\n",
       "9  10      0   @user @user welcome here !  i'm   it's so #gr..."
      ]
     },
     "execution_count": 5,
     "metadata": {},
     "output_type": "execute_result"
    }
   ],
   "source": [
    "train_df.head(10)"
   ]
  },
  {
   "cell_type": "code",
   "execution_count": 6,
   "metadata": {},
   "outputs": [
    {
     "data": {
      "text/plain": [
       "<matplotlib.axes._subplots.AxesSubplot at 0x128b9a752c8>"
      ]
     },
     "execution_count": 6,
     "metadata": {},
     "output_type": "execute_result"
    },
    {
     "data": {
      "image/png": "[encoded data removed]",
      "text/plain": [
       "<Figure size 432x288 with 1 Axes>"
      ]
     },
     "metadata": {
      "needs_background": "light"
     },
     "output_type": "display_data"
    }
   ],
   "source": [
    "sns.countplot(train_df[\"label\"])"
   ]
  },
  {
   "cell_type": "code",
   "execution_count": 20,
   "metadata": {},
   "outputs": [],
   "source": [
    "y = train_df[\"label\"]"
   ]
  },
  {
   "cell_type": "code",
   "execution_count": 15,
   "metadata": {},
   "outputs": [
    {
     "data": {
      "text/plain": [
       "['i', 'me', 'my', 'myself', 'we', 'our', 'ours', 'ourselves', 'you', \"you're\"]"
      ]
     },
     "execution_count": 15,
     "metadata": {},
     "output_type": "execute_result"
    }
   ],
   "source": [
    "from nltk.corpus import stopwords\n",
    "stopwords.words('english')[0:10] "
   ]
  },
  {
   "cell_type": "code",
   "execution_count": 16,
   "metadata": {},
   "outputs": [
    {
     "data": {
      "text/plain": [
       "0    [user, father, dysfunctional, selfish, drags, ...\n",
       "1    [user, user, thanks, lyft, credit, cant, use, ...\n",
       "2                                    [bihday, majesty]\n",
       "3    [model, love, u, take, u, time, urð±, ðð...\n",
       "4                    [factsguide, society, motivation]\n",
       "Name: tweet, dtype: object"
      ]
     },
     "execution_count": 16,
     "metadata": {},
     "output_type": "execute_result"
    }
   ],
   "source": [
    "train_df['tweet'].head(5).apply(text_process)"
   ]
  },
  {
   "cell_type": "code",
   "execution_count": 22,
   "metadata": {},
   "outputs": [],
   "source": [
    "from sklearn.feature_extraction.text import CountVectorizer, TfidfTransformer"
   ]
  },
  {
   "cell_type": "code",
   "execution_count": 18,
   "metadata": {},
   "outputs": [],
   "source": [
    "bow_transformer = CountVectorizer(analyzer=text_process).fit(train_df['tweet'])"
   ]
  },
  {
   "cell_type": "code",
   "execution_count": 19,
   "metadata": {},
   "outputs": [],
   "source": [
    "messages_bow = bow_transformer.transform(train_df['tweet'])"
   ]
  },
  {
   "cell_type": "code",
   "execution_count": 23,
   "metadata": {},
   "outputs": [],
   "source": [
    "tfidf_transformer = TfidfTransformer().fit(messages_bow)"
   ]
  },
  {
   "cell_type": "code",
   "execution_count": 24,
   "metadata": {},
   "outputs": [
    {
     "name": "stdout",
     "output_type": "stream",
     "text": [
      "(31962, 47386)\n"
     ]
    }
   ],
   "source": [
    "messages_tfidf = tfidf_transformer.transform(messages_bow)\n",
    "print(messages_tfidf.shape)"
   ]
  },
  {
   "cell_type": "code",
   "execution_count": 25,
   "metadata": {},
   "outputs": [],
   "source": [
    "from datetime import datetime\n",
    "from sklearn.model_selection import RandomizedSearchCV, GridSearchCV\n",
    "from sklearn.metrics import roc_auc_score\n",
    "from sklearn.model_selection import StratifiedKFold\n",
    "from xgboost import XGBClassifier"
   ]
  },
  {
   "cell_type": "code",
   "execution_count": 26,
   "metadata": {},
   "outputs": [],
   "source": [
    "def timer(start_time=None):\n",
    "    if not start_time:\n",
    "        start_time = datetime.now()\n",
    "        return start_time\n",
    "    elif start_time:\n",
    "        thour, temp_sec = divmod((datetime.now() - start_time).total_seconds(), 3600)\n",
    "        tmin, tsec = divmod(temp_sec, 60)\n",
    "        print('\\n Time taken: %i hours %i minutes and %s seconds.' % (thour, tmin, round(tsec, 2)))"
   ]
  },
  {
   "cell_type": "code",
   "execution_count": 27,
   "metadata": {},
   "outputs": [],
   "source": [
    " #A parameter grid for XGBoost\n",
    "params = {\n",
    "        'min_child_weight': [1, 5, 10],\n",
    "        'gamma': [0.5, 1, 1.5, 2, 5],\n",
    "        'subsample': [0.6, 0.8, 1.0],\n",
    "        'colsample_bytree': [0.6, 0.8, 1.0],\n",
    "        'max_depth': [3, 4, 5]\n",
    "        }"
   ]
  },
  {
   "cell_type": "code",
   "execution_count": 28,
   "metadata": {},
   "outputs": [],
   "source": [
    "xgb = XGBClassifier(learning_rate=0.02, n_estimators=600, objective='binary:logistic',\n",
    "                    silent=True, nthread=1)"
   ]
  },
  {
   "cell_type": "code",
   "execution_count": 29,
   "metadata": {},
   "outputs": [
    {
     "name": "stdout",
     "output_type": "stream",
     "text": [
      "Fitting 3 folds for each of 5 candidates, totalling 15 fits\n"
     ]
    },
    {
     "name": "stderr",
     "output_type": "stream",
     "text": [
      "[Parallel(n_jobs=4)]: Using backend LokyBackend with 4 concurrent workers.\n",
      "[Parallel(n_jobs=4)]: Done  15 out of  15 | elapsed:  9.2min finished\n"
     ]
    },
    {
     "name": "stdout",
     "output_type": "stream",
     "text": [
      "\n",
      " Time taken: 0 hours 10 minutes and 21.25 seconds.\n"
     ]
    }
   ],
   "source": [
    "folds = 3\n",
    "param_comb = 5\n",
    "\n",
    "skf = StratifiedKFold(n_splits=folds, shuffle = True, random_state = 1001)\n",
    "\n",
    "random_search = RandomizedSearchCV(xgb, param_distributions=params, n_iter=param_comb, scoring='f1', n_jobs=4, cv=skf.split(messages_tfidf,y), verbose=3, random_state=1001 )\n",
    "\n",
    "# Here we go\n",
    "start_time = timer(None) # timing starts from this point for \"start_time\" variable\n",
    "random_search.fit(messages_tfidf, y)\n",
    "timer(start_time) # timing ends here for \"start_time\" variable"
   ]
  },
  {
   "cell_type": "code",
   "execution_count": 30,
   "metadata": {},
   "outputs": [
    {
     "name": "stdout",
     "output_type": "stream",
     "text": [
      "\n",
      " All results:\n",
      "{'mean_fit_time': array([ 60.30333161, 153.77897898, 177.97211933, 135.66425792,\n",
      "       149.63329657]), 'std_fit_time': array([ 2.49634143, 29.44663528,  3.22712574,  3.10005759, 12.2638346 ]), 'mean_score_time': array([0.2406884 , 0.6703395 , 0.55345472, 0.60078899, 0.17153494]), 'std_score_time': array([0.03754977, 0.02853958, 0.07846017, 0.11244615, 0.00082219]), 'param_subsample': masked_array(data=[1.0, 0.6, 0.8, 1.0, 0.8],\n",
      "             mask=[False, False, False, False, False],\n",
      "       fill_value='?',\n",
      "            dtype=object), 'param_min_child_weight': masked_array(data=[5, 1, 5, 5, 1],\n",
      "             mask=[False, False, False, False, False],\n",
      "       fill_value='?',\n",
      "            dtype=object), 'param_max_depth': masked_array(data=[3, 5, 5, 5, 4],\n",
      "             mask=[False, False, False, False, False],\n",
      "       fill_value='?',\n",
      "            dtype=object), 'param_gamma': masked_array(data=[5, 1.5, 1, 5, 1],\n",
      "             mask=[False, False, False, False, False],\n",
      "       fill_value='?',\n",
      "            dtype=object), 'param_colsample_bytree': masked_array(data=[1.0, 0.8, 0.8, 0.6, 1.0],\n",
      "             mask=[False, False, False, False, False],\n",
      "       fill_value='?',\n",
      "            dtype=object), 'params': [{'subsample': 1.0, 'min_child_weight': 5, 'max_depth': 3, 'gamma': 5, 'colsample_bytree': 1.0}, {'subsample': 0.6, 'min_child_weight': 1, 'max_depth': 5, 'gamma': 1.5, 'colsample_bytree': 0.8}, {'subsample': 0.8, 'min_child_weight': 5, 'max_depth': 5, 'gamma': 1, 'colsample_bytree': 0.8}, {'subsample': 1.0, 'min_child_weight': 5, 'max_depth': 5, 'gamma': 5, 'colsample_bytree': 0.6}, {'subsample': 0.8, 'min_child_weight': 1, 'max_depth': 4, 'gamma': 1, 'colsample_bytree': 1.0}], 'split0_test_score': array([0.3412527 , 0.42535787, 0.39260021, 0.37826541, 0.4       ]), 'split1_test_score': array([0.30786268, 0.41879469, 0.37291667, 0.35181237, 0.3991684 ]), 'split2_test_score': array([0.3301179 , 0.42685371, 0.38989899, 0.3649635 , 0.39546859]), 'mean_test_score': array([0.32641109, 0.42366876, 0.38513862, 0.36501376, 0.39821233]), 'std_test_score': array([0.01388113, 0.00350017, 0.0087123 , 0.01079947, 0.0019696 ]), 'rank_test_score': array([5, 1, 3, 4, 2])}\n",
      "\n",
      " Best estimator:\n",
      "XGBClassifier(base_score=0.5, booster='gbtree', colsample_bylevel=1,\n",
      "              colsample_bynode=1, colsample_bytree=0.8, gamma=1.5,\n",
      "              learning_rate=0.02, max_delta_step=0, max_depth=5,\n",
      "              min_child_weight=1, missing=None, n_estimators=600, n_jobs=1,\n",
      "              nthread=1, objective='binary:logistic', random_state=0,\n",
      "              reg_alpha=0, reg_lambda=1, scale_pos_weight=1, seed=None,\n",
      "              silent=True, subsample=0.6, verbosity=1)\n",
      "\n",
      " Best normalized gini score for 3-fold search with 5 parameter combinations:\n",
      "-0.15266248727795106\n",
      "\n",
      " Best hyperparameters:\n",
      "{'subsample': 0.6, 'min_child_weight': 1, 'max_depth': 5, 'gamma': 1.5, 'colsample_bytree': 0.8}\n"
     ]
    }
   ],
   "source": [
    "print('\\n All results:')\n",
    "print(random_search.cv_results_)\n",
    "print('\\n Best estimator:')\n",
    "print(random_search.best_estimator_)\n",
    "print('\\n Best normalized gini score for %d-fold search with %d parameter combinations:' % (folds, param_comb))\n",
    "print(random_search.best_score_ * 2 - 1)\n",
    "print('\\n Best hyperparameters:')\n",
    "print(random_search.best_params_)\n",
    "results = pd.DataFrame(random_search.cv_results_)\n",
    "results.to_csv('xgb-random-grid-search-results-01.csv', index=False)"
   ]
  },
  {
   "cell_type": "code",
   "execution_count": 31,
   "metadata": {},
   "outputs": [],
   "source": [
    "from sklearn.model_selection import train_test_split\n",
    "X_train,X_test,y_train,y_test=train_test_split(messages_tfidf,y,test_size=0.3,random_state=101)"
   ]
  },
  {
   "cell_type": "code",
   "execution_count": 32,
   "metadata": {},
   "outputs": [],
   "source": [
    "model = XGBClassifier(base_score=0.5, booster='gbtree', colsample_bylevel=1,\n",
    "              colsample_bynode=1, colsample_bytree=0.8, gamma=1.5,\n",
    "              learning_rate=0.02, max_delta_step=0, max_depth=5,\n",
    "              min_child_weight=1, missing=None, n_estimators=600, n_jobs=1,\n",
    "              nthread=1, objective='binary:logistic', random_state=0,\n",
    "              reg_alpha=0, reg_lambda=1, scale_pos_weight=1, seed=None,\n",
    "              silent=True, subsample=0.6, verbosity=1)"
   ]
  },
  {
   "cell_type": "code",
   "execution_count": 33,
   "metadata": {},
   "outputs": [],
   "source": [
    "from sklearn.metrics import f1_score\n",
    "def xgb_f1(y, t, threshold=0.5):\n",
    "    t = t.get_label()\n",
    "    y_bin = (y > threshold).astype(int) # works for both type(y) == <class 'numpy.ndarray'> and type(y) == <class 'pandas.core.series.Series'>\n",
    "    return 'f1',f1_score(t,y_bin)"
   ]
  },
  {
   "cell_type": "code",
   "execution_count": 34,
   "metadata": {},
   "outputs": [
    {
     "name": "stdout",
     "output_type": "stream",
     "text": [
      "[0]\tvalidation_0-error:0.058922\tvalidation_0-f1:0.282084\n",
      "[1]\tvalidation_0-error:0.059235\tvalidation_0-f1:0.282828\n",
      "[2]\tvalidation_0-error:0.061842\tvalidation_0-f1:0.218709\n",
      "[3]\tvalidation_0-error:0.058296\tvalidation_0-f1:0.325694\n",
      "[4]\tvalidation_0-error:0.058087\tvalidation_0-f1:0.295828\n",
      "[5]\tvalidation_0-error:0.058817\tvalidation_0-f1:0.275064\n",
      "[6]\tvalidation_0-error:0.059652\tvalidation_0-f1:0.239362\n",
      "[7]\tvalidation_0-error:0.059443\tvalidation_0-f1:0.242021\n",
      "[8]\tvalidation_0-error:0.059026\tvalidation_0-f1:0.24734\n",
      "[9]\tvalidation_0-error:0.059235\tvalidation_0-f1:0.236559\n",
      "[10]\tvalidation_0-error:0.059235\tvalidation_0-f1:0.236559\n",
      "[11]\tvalidation_0-error:0.059965\tvalidation_0-f1:0.21981\n",
      "[12]\tvalidation_0-error:0.060277\tvalidation_0-f1:0.210383\n",
      "[13]\tvalidation_0-error:0.061112\tvalidation_0-f1:0.192837\n",
      "[14]\tvalidation_0-error:0.061112\tvalidation_0-f1:0.192837\n",
      "[15]\tvalidation_0-error:0.061007\tvalidation_0-f1:0.190871\n",
      "[16]\tvalidation_0-error:0.061112\tvalidation_0-f1:0.192837\n",
      "[17]\tvalidation_0-error:0.06132\tvalidation_0-f1:0.187845\n",
      "[18]\tvalidation_0-error:0.060799\tvalidation_0-f1:0.198074\n",
      "[19]\tvalidation_0-error:0.060382\tvalidation_0-f1:0.207934\n",
      "[20]\tvalidation_0-error:0.060277\tvalidation_0-f1:0.221024\n",
      "[21]\tvalidation_0-error:0.060173\tvalidation_0-f1:0.223419\n",
      "[22]\tvalidation_0-error:0.060695\tvalidation_0-f1:0.207084\n",
      "[23]\tvalidation_0-error:0.060173\tvalidation_0-f1:0.219215\n",
      "[24]\tvalidation_0-error:0.060903\tvalidation_0-f1:0.197802\n",
      "[25]\tvalidation_0-error:0.060695\tvalidation_0-f1:0.207084\n",
      "[26]\tvalidation_0-error:0.060486\tvalidation_0-f1:0.205479\n",
      "[27]\tvalidation_0-error:0.060799\tvalidation_0-f1:0.200274\n",
      "[28]\tvalidation_0-error:0.060903\tvalidation_0-f1:0.195592\n",
      "[29]\tvalidation_0-error:0.060903\tvalidation_0-f1:0.195592\n",
      "[30]\tvalidation_0-error:0.059756\tvalidation_0-f1:0.222524\n",
      "[31]\tvalidation_0-error:0.061112\tvalidation_0-f1:0.188366\n",
      "[32]\tvalidation_0-error:0.059652\tvalidation_0-f1:0.227027\n",
      "[33]\tvalidation_0-error:0.061007\tvalidation_0-f1:0.193103\n",
      "[34]\tvalidation_0-error:0.06059\tvalidation_0-f1:0.203018\n",
      "[35]\tvalidation_0-error:0.060486\tvalidation_0-f1:0.205479\n",
      "[36]\tvalidation_0-error:0.060173\tvalidation_0-f1:0.214966\n",
      "[37]\tvalidation_0-error:0.06059\tvalidation_0-f1:0.203018\n",
      "[38]\tvalidation_0-error:0.060382\tvalidation_0-f1:0.207934\n",
      "[39]\tvalidation_0-error:0.060486\tvalidation_0-f1:0.205479\n",
      "[40]\tvalidation_0-error:0.060382\tvalidation_0-f1:0.207934\n",
      "[41]\tvalidation_0-error:0.060382\tvalidation_0-f1:0.207934\n",
      "[42]\tvalidation_0-error:0.060382\tvalidation_0-f1:0.207934\n",
      "[43]\tvalidation_0-error:0.060382\tvalidation_0-f1:0.207934\n",
      "[44]\tvalidation_0-error:0.060486\tvalidation_0-f1:0.205479\n",
      "[45]\tvalidation_0-error:0.060382\tvalidation_0-f1:0.207934\n",
      "[46]\tvalidation_0-error:0.060382\tvalidation_0-f1:0.207934\n",
      "[47]\tvalidation_0-error:0.060486\tvalidation_0-f1:0.20765\n",
      "[48]\tvalidation_0-error:0.060382\tvalidation_0-f1:0.210095\n",
      "[49]\tvalidation_0-error:0.060277\tvalidation_0-f1:0.212534\n",
      "[50]\tvalidation_0-error:0.060277\tvalidation_0-f1:0.212534\n",
      "[51]\tvalidation_0-error:0.060277\tvalidation_0-f1:0.212534\n",
      "[52]\tvalidation_0-error:0.060277\tvalidation_0-f1:0.212534\n",
      "[53]\tvalidation_0-error:0.060277\tvalidation_0-f1:0.214674\n",
      "[54]\tvalidation_0-error:0.060277\tvalidation_0-f1:0.212534\n",
      "[55]\tvalidation_0-error:0.060382\tvalidation_0-f1:0.210095\n",
      "[56]\tvalidation_0-error:0.060173\tvalidation_0-f1:0.214966\n",
      "[57]\tvalidation_0-error:0.060173\tvalidation_0-f1:0.214966\n",
      "[58]\tvalidation_0-error:0.060277\tvalidation_0-f1:0.212534\n",
      "[59]\tvalidation_0-error:0.060277\tvalidation_0-f1:0.212534\n",
      "[60]\tvalidation_0-error:0.060277\tvalidation_0-f1:0.212534\n",
      "[61]\tvalidation_0-error:0.060277\tvalidation_0-f1:0.212534\n",
      "[62]\tvalidation_0-error:0.060173\tvalidation_0-f1:0.214966\n",
      "[63]\tvalidation_0-error:0.060173\tvalidation_0-f1:0.214966\n",
      "[64]\tvalidation_0-error:0.060173\tvalidation_0-f1:0.214966\n",
      "[65]\tvalidation_0-error:0.060069\tvalidation_0-f1:0.217391\n",
      "[66]\tvalidation_0-error:0.060173\tvalidation_0-f1:0.214966\n",
      "[67]\tvalidation_0-error:0.060173\tvalidation_0-f1:0.214966\n",
      "[68]\tvalidation_0-error:0.060069\tvalidation_0-f1:0.217391\n",
      "[69]\tvalidation_0-error:0.060069\tvalidation_0-f1:0.217391\n",
      "[70]\tvalidation_0-error:0.060173\tvalidation_0-f1:0.214966\n",
      "[71]\tvalidation_0-error:0.060382\tvalidation_0-f1:0.210095\n",
      "[72]\tvalidation_0-error:0.060277\tvalidation_0-f1:0.212534\n",
      "[73]\tvalidation_0-error:0.060173\tvalidation_0-f1:0.214966\n",
      "[74]\tvalidation_0-error:0.060277\tvalidation_0-f1:0.212534\n",
      "[75]\tvalidation_0-error:0.060277\tvalidation_0-f1:0.212534\n",
      "[76]\tvalidation_0-error:0.060173\tvalidation_0-f1:0.214966\n",
      "[77]\tvalidation_0-error:0.060173\tvalidation_0-f1:0.214966\n",
      "[78]\tvalidation_0-error:0.060486\tvalidation_0-f1:0.20765\n",
      "[79]\tvalidation_0-error:0.060486\tvalidation_0-f1:0.20765\n",
      "[80]\tvalidation_0-error:0.060382\tvalidation_0-f1:0.210095\n",
      "[81]\tvalidation_0-error:0.060695\tvalidation_0-f1:0.204918\n",
      "[82]\tvalidation_0-error:0.060486\tvalidation_0-f1:0.209809\n",
      "[83]\tvalidation_0-error:0.06059\tvalidation_0-f1:0.209524\n",
      "[84]\tvalidation_0-error:0.060486\tvalidation_0-f1:0.209809\n",
      "[85]\tvalidation_0-error:0.06059\tvalidation_0-f1:0.209524\n",
      "[86]\tvalidation_0-error:0.06059\tvalidation_0-f1:0.207367\n",
      "[87]\tvalidation_0-error:0.060486\tvalidation_0-f1:0.211957\n",
      "[88]\tvalidation_0-error:0.06059\tvalidation_0-f1:0.207367\n",
      "[89]\tvalidation_0-error:0.06059\tvalidation_0-f1:0.207367\n",
      "[90]\tvalidation_0-error:0.060382\tvalidation_0-f1:0.212245\n",
      "[91]\tvalidation_0-error:0.060486\tvalidation_0-f1:0.20765\n",
      "[92]\tvalidation_0-error:0.060486\tvalidation_0-f1:0.211957\n",
      "[93]\tvalidation_0-error:0.060382\tvalidation_0-f1:0.210095\n",
      "[94]\tvalidation_0-error:0.060486\tvalidation_0-f1:0.211957\n",
      "[95]\tvalidation_0-error:0.060382\tvalidation_0-f1:0.212245\n",
      "[96]\tvalidation_0-error:0.060382\tvalidation_0-f1:0.212245\n",
      "[97]\tvalidation_0-error:0.06059\tvalidation_0-f1:0.207367\n",
      "[98]\tvalidation_0-error:0.06059\tvalidation_0-f1:0.207367\n",
      "[99]\tvalidation_0-error:0.06059\tvalidation_0-f1:0.207367\n",
      "[100]\tvalidation_0-error:0.06059\tvalidation_0-f1:0.207367\n",
      "[101]\tvalidation_0-error:0.060799\tvalidation_0-f1:0.206803\n",
      "[102]\tvalidation_0-error:0.060695\tvalidation_0-f1:0.209239\n",
      "[103]\tvalidation_0-error:0.06059\tvalidation_0-f1:0.209524\n",
      "[104]\tvalidation_0-error:0.060695\tvalidation_0-f1:0.209239\n",
      "[105]\tvalidation_0-error:0.06059\tvalidation_0-f1:0.209524\n",
      "[106]\tvalidation_0-error:0.060486\tvalidation_0-f1:0.209809\n",
      "[107]\tvalidation_0-error:0.06059\tvalidation_0-f1:0.209524\n",
      "[108]\tvalidation_0-error:0.06059\tvalidation_0-f1:0.209524\n",
      "[109]\tvalidation_0-error:0.060695\tvalidation_0-f1:0.209239\n",
      "[110]\tvalidation_0-error:0.060695\tvalidation_0-f1:0.209239\n",
      "[111]\tvalidation_0-error:0.060799\tvalidation_0-f1:0.208955\n",
      "[112]\tvalidation_0-error:0.060695\tvalidation_0-f1:0.211382\n",
      "[113]\tvalidation_0-error:0.060695\tvalidation_0-f1:0.211382\n",
      "[114]\tvalidation_0-error:0.060695\tvalidation_0-f1:0.211382\n",
      "[115]\tvalidation_0-error:0.06059\tvalidation_0-f1:0.211669\n",
      "[116]\tvalidation_0-error:0.06059\tvalidation_0-f1:0.211669\n",
      "[117]\tvalidation_0-error:0.06059\tvalidation_0-f1:0.213802\n",
      "[118]\tvalidation_0-error:0.060486\tvalidation_0-f1:0.216216\n",
      "[119]\tvalidation_0-error:0.060486\tvalidation_0-f1:0.216216\n",
      "[120]\tvalidation_0-error:0.06059\tvalidation_0-f1:0.213802\n",
      "[121]\tvalidation_0-error:0.06059\tvalidation_0-f1:0.213802\n",
      "[122]\tvalidation_0-error:0.06059\tvalidation_0-f1:0.213802\n",
      "[123]\tvalidation_0-error:0.06059\tvalidation_0-f1:0.213802\n",
      "[124]\tvalidation_0-error:0.06059\tvalidation_0-f1:0.213802\n",
      "[125]\tvalidation_0-error:0.060486\tvalidation_0-f1:0.216216\n",
      "[126]\tvalidation_0-error:0.060382\tvalidation_0-f1:0.218623\n",
      "[127]\tvalidation_0-error:0.060277\tvalidation_0-f1:0.221024\n",
      "[128]\tvalidation_0-error:0.060382\tvalidation_0-f1:0.218623\n",
      "[129]\tvalidation_0-error:0.060486\tvalidation_0-f1:0.216216\n",
      "[130]\tvalidation_0-error:0.060382\tvalidation_0-f1:0.218623\n",
      "[131]\tvalidation_0-error:0.060382\tvalidation_0-f1:0.218623\n",
      "[132]\tvalidation_0-error:0.060486\tvalidation_0-f1:0.218329\n",
      "[133]\tvalidation_0-error:0.060486\tvalidation_0-f1:0.216216\n",
      "[134]\tvalidation_0-error:0.060382\tvalidation_0-f1:0.218623\n",
      "[135]\tvalidation_0-error:0.060382\tvalidation_0-f1:0.218623\n",
      "[136]\tvalidation_0-error:0.060486\tvalidation_0-f1:0.216216\n",
      "[137]\tvalidation_0-error:0.060486\tvalidation_0-f1:0.216216\n",
      "[138]\tvalidation_0-error:0.060486\tvalidation_0-f1:0.218329\n",
      "[139]\tvalidation_0-error:0.060382\tvalidation_0-f1:0.220727\n",
      "[140]\tvalidation_0-error:0.060382\tvalidation_0-f1:0.220727\n",
      "[141]\tvalidation_0-error:0.060382\tvalidation_0-f1:0.220727\n"
     ]
    },
    {
     "name": "stdout",
     "output_type": "stream",
     "text": [
      "[142]\tvalidation_0-error:0.060382\tvalidation_0-f1:0.220727\n",
      "[143]\tvalidation_0-error:0.060382\tvalidation_0-f1:0.220727\n",
      "[144]\tvalidation_0-error:0.060277\tvalidation_0-f1:0.223118\n",
      "[145]\tvalidation_0-error:0.060277\tvalidation_0-f1:0.223118\n",
      "[146]\tvalidation_0-error:0.060277\tvalidation_0-f1:0.223118\n",
      "[147]\tvalidation_0-error:0.060382\tvalidation_0-f1:0.220727\n",
      "[148]\tvalidation_0-error:0.060382\tvalidation_0-f1:0.220727\n",
      "[149]\tvalidation_0-error:0.060277\tvalidation_0-f1:0.223118\n",
      "[150]\tvalidation_0-error:0.060277\tvalidation_0-f1:0.223118\n",
      "[151]\tvalidation_0-error:0.060382\tvalidation_0-f1:0.220727\n",
      "[152]\tvalidation_0-error:0.060382\tvalidation_0-f1:0.220727\n",
      "[153]\tvalidation_0-error:0.060382\tvalidation_0-f1:0.220727\n",
      "[154]\tvalidation_0-error:0.060382\tvalidation_0-f1:0.220727\n",
      "[155]\tvalidation_0-error:0.060382\tvalidation_0-f1:0.220727\n",
      "[156]\tvalidation_0-error:0.060382\tvalidation_0-f1:0.220727\n",
      "[157]\tvalidation_0-error:0.060382\tvalidation_0-f1:0.220727\n",
      "[158]\tvalidation_0-error:0.060382\tvalidation_0-f1:0.220727\n",
      "[159]\tvalidation_0-error:0.060277\tvalidation_0-f1:0.223118\n",
      "[160]\tvalidation_0-error:0.060277\tvalidation_0-f1:0.223118\n",
      "[161]\tvalidation_0-error:0.060277\tvalidation_0-f1:0.223118\n",
      "[162]\tvalidation_0-error:0.060277\tvalidation_0-f1:0.223118\n",
      "[163]\tvalidation_0-error:0.060277\tvalidation_0-f1:0.223118\n",
      "[164]\tvalidation_0-error:0.060173\tvalidation_0-f1:0.225503\n",
      "[165]\tvalidation_0-error:0.060173\tvalidation_0-f1:0.225503\n",
      "[166]\tvalidation_0-error:0.060173\tvalidation_0-f1:0.225503\n",
      "[167]\tvalidation_0-error:0.059965\tvalidation_0-f1:0.230254\n",
      "[168]\tvalidation_0-error:0.059965\tvalidation_0-f1:0.230254\n",
      "[169]\tvalidation_0-error:0.059965\tvalidation_0-f1:0.230254\n",
      "[170]\tvalidation_0-error:0.059965\tvalidation_0-f1:0.230254\n",
      "[171]\tvalidation_0-error:0.059965\tvalidation_0-f1:0.230254\n",
      "[172]\tvalidation_0-error:0.059965\tvalidation_0-f1:0.230254\n",
      "[173]\tvalidation_0-error:0.059965\tvalidation_0-f1:0.230254\n",
      "[174]\tvalidation_0-error:0.060069\tvalidation_0-f1:0.227882\n",
      "[175]\tvalidation_0-error:0.060069\tvalidation_0-f1:0.227882\n",
      "[176]\tvalidation_0-error:0.059965\tvalidation_0-f1:0.230254\n",
      "[177]\tvalidation_0-error:0.059965\tvalidation_0-f1:0.230254\n",
      "[178]\tvalidation_0-error:0.059965\tvalidation_0-f1:0.230254\n",
      "[179]\tvalidation_0-error:0.059965\tvalidation_0-f1:0.230254\n",
      "[180]\tvalidation_0-error:0.059965\tvalidation_0-f1:0.230254\n",
      "[181]\tvalidation_0-error:0.059965\tvalidation_0-f1:0.230254\n",
      "[182]\tvalidation_0-error:0.059965\tvalidation_0-f1:0.230254\n",
      "[183]\tvalidation_0-error:0.060069\tvalidation_0-f1:0.227882\n",
      "[184]\tvalidation_0-error:0.060069\tvalidation_0-f1:0.227882\n",
      "[185]\tvalidation_0-error:0.059965\tvalidation_0-f1:0.230254\n",
      "[186]\tvalidation_0-error:0.059965\tvalidation_0-f1:0.230254\n",
      "[187]\tvalidation_0-error:0.059965\tvalidation_0-f1:0.230254\n",
      "[188]\tvalidation_0-error:0.05986\tvalidation_0-f1:0.23262\n",
      "[189]\tvalidation_0-error:0.05986\tvalidation_0-f1:0.23262\n",
      "[190]\tvalidation_0-error:0.05986\tvalidation_0-f1:0.23262\n",
      "[191]\tvalidation_0-error:0.059965\tvalidation_0-f1:0.230254\n",
      "[192]\tvalidation_0-error:0.05986\tvalidation_0-f1:0.23262\n",
      "[193]\tvalidation_0-error:0.05986\tvalidation_0-f1:0.23262\n",
      "[194]\tvalidation_0-error:0.05986\tvalidation_0-f1:0.23262\n",
      "[195]\tvalidation_0-error:0.05986\tvalidation_0-f1:0.23262\n",
      "[196]\tvalidation_0-error:0.05986\tvalidation_0-f1:0.23262\n",
      "[197]\tvalidation_0-error:0.059756\tvalidation_0-f1:0.23498\n",
      "[198]\tvalidation_0-error:0.05986\tvalidation_0-f1:0.23262\n",
      "[199]\tvalidation_0-error:0.05986\tvalidation_0-f1:0.23262\n",
      "[200]\tvalidation_0-error:0.059756\tvalidation_0-f1:0.23498\n",
      "[201]\tvalidation_0-error:0.05986\tvalidation_0-f1:0.234667\n",
      "[202]\tvalidation_0-error:0.05986\tvalidation_0-f1:0.234667\n",
      "[203]\tvalidation_0-error:0.059652\tvalidation_0-f1:0.239362\n",
      "[204]\tvalidation_0-error:0.059652\tvalidation_0-f1:0.239362\n",
      "[205]\tvalidation_0-error:0.059235\tvalidation_0-f1:0.246684\n",
      "[206]\tvalidation_0-error:0.059547\tvalidation_0-f1:0.23968\n",
      "[207]\tvalidation_0-error:0.059547\tvalidation_0-f1:0.23968\n",
      "[208]\tvalidation_0-error:0.059443\tvalidation_0-f1:0.242021\n",
      "[209]\tvalidation_0-error:0.059443\tvalidation_0-f1:0.242021\n",
      "[210]\tvalidation_0-error:0.059235\tvalidation_0-f1:0.248677\n",
      "[211]\tvalidation_0-error:0.05913\tvalidation_0-f1:0.250991\n",
      "[212]\tvalidation_0-error:0.05913\tvalidation_0-f1:0.250991\n",
      "[213]\tvalidation_0-error:0.05913\tvalidation_0-f1:0.250991\n",
      "[214]\tvalidation_0-error:0.059026\tvalidation_0-f1:0.253298\n",
      "[215]\tvalidation_0-error:0.058922\tvalidation_0-f1:0.253633\n",
      "[216]\tvalidation_0-error:0.059026\tvalidation_0-f1:0.251323\n",
      "[217]\tvalidation_0-error:0.059026\tvalidation_0-f1:0.251323\n",
      "[218]\tvalidation_0-error:0.05913\tvalidation_0-f1:0.249007\n",
      "[219]\tvalidation_0-error:0.05913\tvalidation_0-f1:0.249007\n",
      "[220]\tvalidation_0-error:0.05913\tvalidation_0-f1:0.249007\n",
      "[221]\tvalidation_0-error:0.05913\tvalidation_0-f1:0.250991\n",
      "[222]\tvalidation_0-error:0.05913\tvalidation_0-f1:0.250991\n",
      "[223]\tvalidation_0-error:0.058922\tvalidation_0-f1:0.255599\n",
      "[224]\tvalidation_0-error:0.059026\tvalidation_0-f1:0.253298\n",
      "[225]\tvalidation_0-error:0.059026\tvalidation_0-f1:0.253298\n",
      "[226]\tvalidation_0-error:0.059026\tvalidation_0-f1:0.253298\n",
      "[227]\tvalidation_0-error:0.059026\tvalidation_0-f1:0.253298\n",
      "[228]\tvalidation_0-error:0.059026\tvalidation_0-f1:0.253298\n",
      "[229]\tvalidation_0-error:0.059026\tvalidation_0-f1:0.253298\n",
      "[230]\tvalidation_0-error:0.058922\tvalidation_0-f1:0.255599\n",
      "[231]\tvalidation_0-error:0.058922\tvalidation_0-f1:0.255599\n",
      "[232]\tvalidation_0-error:0.059026\tvalidation_0-f1:0.253298\n",
      "[233]\tvalidation_0-error:0.058922\tvalidation_0-f1:0.255599\n",
      "[234]\tvalidation_0-error:0.058922\tvalidation_0-f1:0.255599\n",
      "[235]\tvalidation_0-error:0.058922\tvalidation_0-f1:0.255599\n",
      "[236]\tvalidation_0-error:0.058922\tvalidation_0-f1:0.255599\n",
      "[237]\tvalidation_0-error:0.058922\tvalidation_0-f1:0.255599\n",
      "[238]\tvalidation_0-error:0.058922\tvalidation_0-f1:0.255599\n",
      "[239]\tvalidation_0-error:0.058922\tvalidation_0-f1:0.255599\n",
      "[240]\tvalidation_0-error:0.058922\tvalidation_0-f1:0.255599\n",
      "[241]\tvalidation_0-error:0.058817\tvalidation_0-f1:0.257895\n",
      "[242]\tvalidation_0-error:0.058817\tvalidation_0-f1:0.257895\n",
      "[243]\tvalidation_0-error:0.058922\tvalidation_0-f1:0.255599\n",
      "[244]\tvalidation_0-error:0.058817\tvalidation_0-f1:0.257895\n",
      "[245]\tvalidation_0-error:0.058817\tvalidation_0-f1:0.257895\n",
      "[246]\tvalidation_0-error:0.058713\tvalidation_0-f1:0.260184\n",
      "[247]\tvalidation_0-error:0.058713\tvalidation_0-f1:0.260184\n",
      "[248]\tvalidation_0-error:0.058609\tvalidation_0-f1:0.262467\n",
      "[249]\tvalidation_0-error:0.058609\tvalidation_0-f1:0.262467\n",
      "[250]\tvalidation_0-error:0.058609\tvalidation_0-f1:0.262467\n",
      "[251]\tvalidation_0-error:0.058713\tvalidation_0-f1:0.260184\n",
      "[252]\tvalidation_0-error:0.058713\tvalidation_0-f1:0.260184\n",
      "[253]\tvalidation_0-error:0.058609\tvalidation_0-f1:0.262467\n",
      "[254]\tvalidation_0-error:0.058609\tvalidation_0-f1:0.262467\n",
      "[255]\tvalidation_0-error:0.058609\tvalidation_0-f1:0.262467\n",
      "[256]\tvalidation_0-error:0.058505\tvalidation_0-f1:0.264744\n",
      "[257]\tvalidation_0-error:0.058505\tvalidation_0-f1:0.264744\n",
      "[258]\tvalidation_0-error:0.058505\tvalidation_0-f1:0.264744\n",
      "[259]\tvalidation_0-error:0.058505\tvalidation_0-f1:0.264744\n",
      "[260]\tvalidation_0-error:0.0584\tvalidation_0-f1:0.267016\n",
      "[261]\tvalidation_0-error:0.0584\tvalidation_0-f1:0.267016\n",
      "[262]\tvalidation_0-error:0.0584\tvalidation_0-f1:0.267016\n",
      "[263]\tvalidation_0-error:0.0584\tvalidation_0-f1:0.267016\n",
      "[264]\tvalidation_0-error:0.0584\tvalidation_0-f1:0.267016\n",
      "[265]\tvalidation_0-error:0.0584\tvalidation_0-f1:0.267016\n",
      "[266]\tvalidation_0-error:0.058296\tvalidation_0-f1:0.269281\n",
      "[267]\tvalidation_0-error:0.058192\tvalidation_0-f1:0.27154\n",
      "[268]\tvalidation_0-error:0.058192\tvalidation_0-f1:0.27154\n",
      "[269]\tvalidation_0-error:0.058192\tvalidation_0-f1:0.27154\n",
      "[270]\tvalidation_0-error:0.058192\tvalidation_0-f1:0.27154\n",
      "[271]\tvalidation_0-error:0.058192\tvalidation_0-f1:0.27154\n",
      "[272]\tvalidation_0-error:0.058192\tvalidation_0-f1:0.27154\n",
      "[273]\tvalidation_0-error:0.058192\tvalidation_0-f1:0.27154\n",
      "[274]\tvalidation_0-error:0.058296\tvalidation_0-f1:0.269281\n",
      "[275]\tvalidation_0-error:0.058192\tvalidation_0-f1:0.27154\n",
      "[276]\tvalidation_0-error:0.058192\tvalidation_0-f1:0.27154\n",
      "[277]\tvalidation_0-error:0.058192\tvalidation_0-f1:0.27154\n",
      "[278]\tvalidation_0-error:0.058087\tvalidation_0-f1:0.273794\n",
      "[279]\tvalidation_0-error:0.058087\tvalidation_0-f1:0.273794\n",
      "[280]\tvalidation_0-error:0.057983\tvalidation_0-f1:0.276042\n",
      "[281]\tvalidation_0-error:0.057879\tvalidation_0-f1:0.278283\n"
     ]
    },
    {
     "name": "stdout",
     "output_type": "stream",
     "text": [
      "[282]\tvalidation_0-error:0.057879\tvalidation_0-f1:0.278283\n",
      "[283]\tvalidation_0-error:0.057775\tvalidation_0-f1:0.280519\n",
      "[284]\tvalidation_0-error:0.057879\tvalidation_0-f1:0.278283\n",
      "[285]\tvalidation_0-error:0.057879\tvalidation_0-f1:0.278283\n",
      "[286]\tvalidation_0-error:0.057983\tvalidation_0-f1:0.276042\n",
      "[287]\tvalidation_0-error:0.057983\tvalidation_0-f1:0.276042\n",
      "[288]\tvalidation_0-error:0.057879\tvalidation_0-f1:0.278283\n",
      "[289]\tvalidation_0-error:0.057879\tvalidation_0-f1:0.278283\n",
      "[290]\tvalidation_0-error:0.057775\tvalidation_0-f1:0.280519\n",
      "[291]\tvalidation_0-error:0.057775\tvalidation_0-f1:0.280519\n",
      "[292]\tvalidation_0-error:0.057775\tvalidation_0-f1:0.282383\n",
      "[293]\tvalidation_0-error:0.057775\tvalidation_0-f1:0.282383\n",
      "[294]\tvalidation_0-error:0.05767\tvalidation_0-f1:0.284605\n",
      "[295]\tvalidation_0-error:0.05767\tvalidation_0-f1:0.284605\n",
      "[296]\tvalidation_0-error:0.05767\tvalidation_0-f1:0.284605\n",
      "[297]\tvalidation_0-error:0.05767\tvalidation_0-f1:0.284605\n",
      "[298]\tvalidation_0-error:0.057566\tvalidation_0-f1:0.286822\n",
      "[299]\tvalidation_0-error:0.057566\tvalidation_0-f1:0.286822\n",
      "[300]\tvalidation_0-error:0.057462\tvalidation_0-f1:0.289032\n",
      "[301]\tvalidation_0-error:0.057566\tvalidation_0-f1:0.286822\n",
      "[302]\tvalidation_0-error:0.057566\tvalidation_0-f1:0.286822\n",
      "[303]\tvalidation_0-error:0.057462\tvalidation_0-f1:0.289032\n",
      "[304]\tvalidation_0-error:0.057566\tvalidation_0-f1:0.286822\n",
      "[305]\tvalidation_0-error:0.057462\tvalidation_0-f1:0.289032\n",
      "[306]\tvalidation_0-error:0.057462\tvalidation_0-f1:0.289032\n",
      "[307]\tvalidation_0-error:0.057566\tvalidation_0-f1:0.286822\n",
      "[308]\tvalidation_0-error:0.057357\tvalidation_0-f1:0.291237\n",
      "[309]\tvalidation_0-error:0.057253\tvalidation_0-f1:0.293436\n",
      "[310]\tvalidation_0-error:0.057357\tvalidation_0-f1:0.291237\n",
      "[311]\tvalidation_0-error:0.056627\tvalidation_0-f1:0.306513\n",
      "[312]\tvalidation_0-error:0.056627\tvalidation_0-f1:0.306513\n",
      "[313]\tvalidation_0-error:0.056627\tvalidation_0-f1:0.306513\n",
      "[314]\tvalidation_0-error:0.056523\tvalidation_0-f1:0.308673\n",
      "[315]\tvalidation_0-error:0.056523\tvalidation_0-f1:0.308673\n",
      "[316]\tvalidation_0-error:0.056523\tvalidation_0-f1:0.308673\n",
      "[317]\tvalidation_0-error:0.056523\tvalidation_0-f1:0.308673\n",
      "[318]\tvalidation_0-error:0.056419\tvalidation_0-f1:0.310828\n",
      "[319]\tvalidation_0-error:0.056419\tvalidation_0-f1:0.310828\n",
      "[320]\tvalidation_0-error:0.056419\tvalidation_0-f1:0.310828\n",
      "[321]\tvalidation_0-error:0.056419\tvalidation_0-f1:0.310828\n",
      "[322]\tvalidation_0-error:0.056419\tvalidation_0-f1:0.310828\n",
      "[323]\tvalidation_0-error:0.05621\tvalidation_0-f1:0.315121\n",
      "[324]\tvalidation_0-error:0.056002\tvalidation_0-f1:0.319392\n",
      "[325]\tvalidation_0-error:0.056106\tvalidation_0-f1:0.318987\n",
      "[326]\tvalidation_0-error:0.056106\tvalidation_0-f1:0.318987\n",
      "[327]\tvalidation_0-error:0.056106\tvalidation_0-f1:0.318987\n",
      "[328]\tvalidation_0-error:0.056106\tvalidation_0-f1:0.318987\n",
      "[329]\tvalidation_0-error:0.056315\tvalidation_0-f1:0.318182\n",
      "[330]\tvalidation_0-error:0.05621\tvalidation_0-f1:0.320303\n",
      "[331]\tvalidation_0-error:0.056106\tvalidation_0-f1:0.322418\n",
      "[332]\tvalidation_0-error:0.056106\tvalidation_0-f1:0.322418\n",
      "[333]\tvalidation_0-error:0.056106\tvalidation_0-f1:0.322418\n",
      "[334]\tvalidation_0-error:0.056106\tvalidation_0-f1:0.322418\n",
      "[335]\tvalidation_0-error:0.055585\tvalidation_0-f1:0.332916\n",
      "[336]\tvalidation_0-error:0.055585\tvalidation_0-f1:0.332916\n",
      "[337]\tvalidation_0-error:0.055585\tvalidation_0-f1:0.332916\n",
      "[338]\tvalidation_0-error:0.055585\tvalidation_0-f1:0.332916\n",
      "[339]\tvalidation_0-error:0.055585\tvalidation_0-f1:0.332916\n",
      "[340]\tvalidation_0-error:0.055585\tvalidation_0-f1:0.332916\n",
      "[341]\tvalidation_0-error:0.055585\tvalidation_0-f1:0.332916\n",
      "[342]\tvalidation_0-error:0.055585\tvalidation_0-f1:0.332916\n",
      "[343]\tvalidation_0-error:0.055585\tvalidation_0-f1:0.332916\n",
      "[344]\tvalidation_0-error:0.055585\tvalidation_0-f1:0.332916\n",
      "[345]\tvalidation_0-error:0.05548\tvalidation_0-f1:0.335\n",
      "[346]\tvalidation_0-error:0.055376\tvalidation_0-f1:0.337079\n",
      "[347]\tvalidation_0-error:0.055376\tvalidation_0-f1:0.337079\n",
      "[348]\tvalidation_0-error:0.055272\tvalidation_0-f1:0.339152\n",
      "[349]\tvalidation_0-error:0.055272\tvalidation_0-f1:0.339152\n",
      "[350]\tvalidation_0-error:0.055272\tvalidation_0-f1:0.339152\n",
      "[351]\tvalidation_0-error:0.055272\tvalidation_0-f1:0.339152\n",
      "[352]\tvalidation_0-error:0.055272\tvalidation_0-f1:0.339152\n",
      "[353]\tvalidation_0-error:0.055272\tvalidation_0-f1:0.339152\n",
      "[354]\tvalidation_0-error:0.055585\tvalidation_0-f1:0.332916\n",
      "[355]\tvalidation_0-error:0.055585\tvalidation_0-f1:0.334582\n",
      "[356]\tvalidation_0-error:0.055585\tvalidation_0-f1:0.334582\n",
      "[357]\tvalidation_0-error:0.055585\tvalidation_0-f1:0.334582\n",
      "[358]\tvalidation_0-error:0.055167\tvalidation_0-f1:0.34122\n",
      "[359]\tvalidation_0-error:0.055167\tvalidation_0-f1:0.34122\n",
      "[360]\tvalidation_0-error:0.055167\tvalidation_0-f1:0.34122\n",
      "[361]\tvalidation_0-error:0.055167\tvalidation_0-f1:0.34122\n",
      "[362]\tvalidation_0-error:0.055272\tvalidation_0-f1:0.340796\n",
      "[363]\tvalidation_0-error:0.055272\tvalidation_0-f1:0.340796\n",
      "[364]\tvalidation_0-error:0.055272\tvalidation_0-f1:0.340796\n",
      "[365]\tvalidation_0-error:0.055272\tvalidation_0-f1:0.340796\n",
      "[366]\tvalidation_0-error:0.055272\tvalidation_0-f1:0.340796\n",
      "[367]\tvalidation_0-error:0.055272\tvalidation_0-f1:0.340796\n",
      "[368]\tvalidation_0-error:0.055272\tvalidation_0-f1:0.340796\n",
      "[369]\tvalidation_0-error:0.055272\tvalidation_0-f1:0.340796\n",
      "[370]\tvalidation_0-error:0.055167\tvalidation_0-f1:0.342857\n",
      "[371]\tvalidation_0-error:0.055167\tvalidation_0-f1:0.342857\n",
      "[372]\tvalidation_0-error:0.055167\tvalidation_0-f1:0.342857\n",
      "[373]\tvalidation_0-error:0.055167\tvalidation_0-f1:0.342857\n",
      "[374]\tvalidation_0-error:0.055272\tvalidation_0-f1:0.342432\n",
      "[375]\tvalidation_0-error:0.055272\tvalidation_0-f1:0.342432\n",
      "[376]\tvalidation_0-error:0.055272\tvalidation_0-f1:0.342432\n",
      "[377]\tvalidation_0-error:0.055272\tvalidation_0-f1:0.342432\n",
      "[378]\tvalidation_0-error:0.055272\tvalidation_0-f1:0.342432\n",
      "[379]\tvalidation_0-error:0.055272\tvalidation_0-f1:0.342432\n",
      "[380]\tvalidation_0-error:0.055272\tvalidation_0-f1:0.342432\n",
      "[381]\tvalidation_0-error:0.055063\tvalidation_0-f1:0.346535\n",
      "[382]\tvalidation_0-error:0.055063\tvalidation_0-f1:0.346535\n",
      "[383]\tvalidation_0-error:0.055063\tvalidation_0-f1:0.346535\n",
      "[384]\tvalidation_0-error:0.055063\tvalidation_0-f1:0.346535\n",
      "[385]\tvalidation_0-error:0.054959\tvalidation_0-f1:0.348578\n",
      "[386]\tvalidation_0-error:0.054333\tvalidation_0-f1:0.360736\n",
      "[387]\tvalidation_0-error:0.054333\tvalidation_0-f1:0.360736\n",
      "[388]\tvalidation_0-error:0.054333\tvalidation_0-f1:0.360736\n",
      "[389]\tvalidation_0-error:0.054125\tvalidation_0-f1:0.364749\n",
      "[390]\tvalidation_0-error:0.054125\tvalidation_0-f1:0.364749\n",
      "[391]\tvalidation_0-error:0.054125\tvalidation_0-f1:0.364749\n",
      "[392]\tvalidation_0-error:0.054125\tvalidation_0-f1:0.364749\n",
      "[393]\tvalidation_0-error:0.054125\tvalidation_0-f1:0.364749\n",
      "[394]\tvalidation_0-error:0.054125\tvalidation_0-f1:0.364749\n",
      "[395]\tvalidation_0-error:0.054125\tvalidation_0-f1:0.364749\n",
      "[396]\tvalidation_0-error:0.05402\tvalidation_0-f1:0.366748\n",
      "[397]\tvalidation_0-error:0.05402\tvalidation_0-f1:0.366748\n",
      "[398]\tvalidation_0-error:0.05402\tvalidation_0-f1:0.366748\n",
      "[399]\tvalidation_0-error:0.05402\tvalidation_0-f1:0.366748\n",
      "[400]\tvalidation_0-error:0.05402\tvalidation_0-f1:0.366748\n",
      "[401]\tvalidation_0-error:0.05402\tvalidation_0-f1:0.366748\n",
      "[402]\tvalidation_0-error:0.054125\tvalidation_0-f1:0.3663\n",
      "[403]\tvalidation_0-error:0.054125\tvalidation_0-f1:0.3663\n",
      "[404]\tvalidation_0-error:0.054125\tvalidation_0-f1:0.3663\n",
      "[405]\tvalidation_0-error:0.054125\tvalidation_0-f1:0.3663\n",
      "[406]\tvalidation_0-error:0.054125\tvalidation_0-f1:0.3663\n",
      "[407]\tvalidation_0-error:0.054125\tvalidation_0-f1:0.3663\n",
      "[408]\tvalidation_0-error:0.05402\tvalidation_0-f1:0.368293\n",
      "[409]\tvalidation_0-error:0.05402\tvalidation_0-f1:0.368293\n",
      "[410]\tvalidation_0-error:0.05402\tvalidation_0-f1:0.368293\n",
      "[411]\tvalidation_0-error:0.05402\tvalidation_0-f1:0.368293\n",
      "[412]\tvalidation_0-error:0.05402\tvalidation_0-f1:0.368293\n",
      "[413]\tvalidation_0-error:0.05402\tvalidation_0-f1:0.368293\n",
      "[414]\tvalidation_0-error:0.05402\tvalidation_0-f1:0.368293\n",
      "[415]\tvalidation_0-error:0.053916\tvalidation_0-f1:0.37028\n",
      "[416]\tvalidation_0-error:0.053916\tvalidation_0-f1:0.37028\n",
      "[417]\tvalidation_0-error:0.053916\tvalidation_0-f1:0.37028\n",
      "[418]\tvalidation_0-error:0.05402\tvalidation_0-f1:0.368293\n",
      "[419]\tvalidation_0-error:0.05402\tvalidation_0-f1:0.368293\n",
      "[420]\tvalidation_0-error:0.05402\tvalidation_0-f1:0.368293\n",
      "[421]\tvalidation_0-error:0.053916\tvalidation_0-f1:0.37028\n"
     ]
    },
    {
     "name": "stdout",
     "output_type": "stream",
     "text": [
      "[422]\tvalidation_0-error:0.053916\tvalidation_0-f1:0.37028\n",
      "[423]\tvalidation_0-error:0.053916\tvalidation_0-f1:0.37028\n",
      "[424]\tvalidation_0-error:0.053916\tvalidation_0-f1:0.37028\n",
      "[425]\tvalidation_0-error:0.053916\tvalidation_0-f1:0.37028\n",
      "[426]\tvalidation_0-error:0.053916\tvalidation_0-f1:0.37028\n",
      "[427]\tvalidation_0-error:0.053916\tvalidation_0-f1:0.37028\n",
      "[428]\tvalidation_0-error:0.053916\tvalidation_0-f1:0.37028\n",
      "[429]\tvalidation_0-error:0.053812\tvalidation_0-f1:0.372263\n",
      "[430]\tvalidation_0-error:0.053707\tvalidation_0-f1:0.374241\n",
      "[431]\tvalidation_0-error:0.053707\tvalidation_0-f1:0.374241\n",
      "[432]\tvalidation_0-error:0.053707\tvalidation_0-f1:0.374241\n",
      "[433]\tvalidation_0-error:0.053707\tvalidation_0-f1:0.374241\n",
      "[434]\tvalidation_0-error:0.053707\tvalidation_0-f1:0.374241\n",
      "[435]\tvalidation_0-error:0.053707\tvalidation_0-f1:0.374241\n",
      "[436]\tvalidation_0-error:0.053707\tvalidation_0-f1:0.374241\n",
      "[437]\tvalidation_0-error:0.053707\tvalidation_0-f1:0.374241\n",
      "[438]\tvalidation_0-error:0.053707\tvalidation_0-f1:0.374241\n",
      "[439]\tvalidation_0-error:0.053707\tvalidation_0-f1:0.374241\n",
      "[440]\tvalidation_0-error:0.053707\tvalidation_0-f1:0.374241\n",
      "[441]\tvalidation_0-error:0.053707\tvalidation_0-f1:0.374241\n",
      "[442]\tvalidation_0-error:0.053707\tvalidation_0-f1:0.374241\n",
      "[443]\tvalidation_0-error:0.053707\tvalidation_0-f1:0.374241\n",
      "[444]\tvalidation_0-error:0.053707\tvalidation_0-f1:0.374241\n",
      "[445]\tvalidation_0-error:0.053707\tvalidation_0-f1:0.374241\n",
      "[446]\tvalidation_0-error:0.053603\tvalidation_0-f1:0.376214\n",
      "[447]\tvalidation_0-error:0.053603\tvalidation_0-f1:0.376214\n",
      "[448]\tvalidation_0-error:0.053603\tvalidation_0-f1:0.376214\n",
      "[449]\tvalidation_0-error:0.053603\tvalidation_0-f1:0.376214\n",
      "[450]\tvalidation_0-error:0.053707\tvalidation_0-f1:0.375758\n",
      "[451]\tvalidation_0-error:0.053603\tvalidation_0-f1:0.377724\n",
      "[452]\tvalidation_0-error:0.053603\tvalidation_0-f1:0.377724\n",
      "[453]\tvalidation_0-error:0.053603\tvalidation_0-f1:0.377724\n",
      "[454]\tvalidation_0-error:0.053603\tvalidation_0-f1:0.377724\n",
      "[455]\tvalidation_0-error:0.053603\tvalidation_0-f1:0.377724\n",
      "[456]\tvalidation_0-error:0.053603\tvalidation_0-f1:0.377724\n",
      "[457]\tvalidation_0-error:0.053603\tvalidation_0-f1:0.377724\n",
      "[458]\tvalidation_0-error:0.053499\tvalidation_0-f1:0.379686\n",
      "[459]\tvalidation_0-error:0.053499\tvalidation_0-f1:0.379686\n",
      "[460]\tvalidation_0-error:0.053499\tvalidation_0-f1:0.379686\n",
      "[461]\tvalidation_0-error:0.053499\tvalidation_0-f1:0.379686\n",
      "[462]\tvalidation_0-error:0.053499\tvalidation_0-f1:0.379686\n",
      "[463]\tvalidation_0-error:0.053499\tvalidation_0-f1:0.379686\n",
      "[464]\tvalidation_0-error:0.053499\tvalidation_0-f1:0.379686\n",
      "[465]\tvalidation_0-error:0.053499\tvalidation_0-f1:0.379686\n",
      "[466]\tvalidation_0-error:0.053499\tvalidation_0-f1:0.379686\n",
      "[467]\tvalidation_0-error:0.053603\tvalidation_0-f1:0.379227\n",
      "[468]\tvalidation_0-error:0.053603\tvalidation_0-f1:0.379227\n",
      "[469]\tvalidation_0-error:0.053603\tvalidation_0-f1:0.379227\n",
      "[470]\tvalidation_0-error:0.053499\tvalidation_0-f1:0.379686\n",
      "[471]\tvalidation_0-error:0.053499\tvalidation_0-f1:0.379686\n",
      "[472]\tvalidation_0-error:0.053499\tvalidation_0-f1:0.379686\n",
      "[473]\tvalidation_0-error:0.053603\tvalidation_0-f1:0.379227\n",
      "[474]\tvalidation_0-error:0.053603\tvalidation_0-f1:0.379227\n",
      "[475]\tvalidation_0-error:0.053499\tvalidation_0-f1:0.381182\n",
      "[476]\tvalidation_0-error:0.053499\tvalidation_0-f1:0.381182\n",
      "[477]\tvalidation_0-error:0.053395\tvalidation_0-f1:0.383133\n",
      "[478]\tvalidation_0-error:0.05329\tvalidation_0-f1:0.383595\n",
      "[479]\tvalidation_0-error:0.053395\tvalidation_0-f1:0.383133\n",
      "[480]\tvalidation_0-error:0.053395\tvalidation_0-f1:0.383133\n",
      "[481]\tvalidation_0-error:0.053395\tvalidation_0-f1:0.383133\n",
      "[482]\tvalidation_0-error:0.053395\tvalidation_0-f1:0.383133\n",
      "[483]\tvalidation_0-error:0.053499\tvalidation_0-f1:0.382671\n",
      "[484]\tvalidation_0-error:0.053499\tvalidation_0-f1:0.382671\n",
      "[485]\tvalidation_0-error:0.053499\tvalidation_0-f1:0.382671\n",
      "[486]\tvalidation_0-error:0.053499\tvalidation_0-f1:0.382671\n",
      "[487]\tvalidation_0-error:0.053499\tvalidation_0-f1:0.382671\n",
      "[488]\tvalidation_0-error:0.053499\tvalidation_0-f1:0.382671\n",
      "[489]\tvalidation_0-error:0.053499\tvalidation_0-f1:0.382671\n",
      "[490]\tvalidation_0-error:0.053499\tvalidation_0-f1:0.382671\n",
      "[491]\tvalidation_0-error:0.053499\tvalidation_0-f1:0.382671\n",
      "[492]\tvalidation_0-error:0.053499\tvalidation_0-f1:0.382671\n",
      "[493]\tvalidation_0-error:0.053499\tvalidation_0-f1:0.382671\n",
      "[494]\tvalidation_0-error:0.053395\tvalidation_0-f1:0.384615\n",
      "[495]\tvalidation_0-error:0.053395\tvalidation_0-f1:0.384615\n",
      "[496]\tvalidation_0-error:0.053395\tvalidation_0-f1:0.384615\n",
      "[497]\tvalidation_0-error:0.053395\tvalidation_0-f1:0.384615\n",
      "[498]\tvalidation_0-error:0.053395\tvalidation_0-f1:0.384615\n",
      "[499]\tvalidation_0-error:0.053395\tvalidation_0-f1:0.384615\n",
      "[500]\tvalidation_0-error:0.053395\tvalidation_0-f1:0.384615\n",
      "[501]\tvalidation_0-error:0.053395\tvalidation_0-f1:0.384615\n",
      "[502]\tvalidation_0-error:0.053395\tvalidation_0-f1:0.384615\n",
      "[503]\tvalidation_0-error:0.053395\tvalidation_0-f1:0.384615\n",
      "[504]\tvalidation_0-error:0.053395\tvalidation_0-f1:0.384615\n",
      "[505]\tvalidation_0-error:0.053395\tvalidation_0-f1:0.384615\n",
      "[506]\tvalidation_0-error:0.053395\tvalidation_0-f1:0.384615\n",
      "[507]\tvalidation_0-error:0.053395\tvalidation_0-f1:0.384615\n",
      "[508]\tvalidation_0-error:0.053395\tvalidation_0-f1:0.384615\n",
      "[509]\tvalidation_0-error:0.053395\tvalidation_0-f1:0.384615\n",
      "[510]\tvalidation_0-error:0.053395\tvalidation_0-f1:0.384615\n",
      "[511]\tvalidation_0-error:0.05329\tvalidation_0-f1:0.386555\n",
      "[512]\tvalidation_0-error:0.053395\tvalidation_0-f1:0.384615\n",
      "[513]\tvalidation_0-error:0.053395\tvalidation_0-f1:0.384615\n",
      "[514]\tvalidation_0-error:0.05329\tvalidation_0-f1:0.386555\n",
      "[515]\tvalidation_0-error:0.05329\tvalidation_0-f1:0.386555\n",
      "[516]\tvalidation_0-error:0.05329\tvalidation_0-f1:0.386555\n",
      "[517]\tvalidation_0-error:0.053395\tvalidation_0-f1:0.384615\n",
      "[518]\tvalidation_0-error:0.05329\tvalidation_0-f1:0.386555\n",
      "[519]\tvalidation_0-error:0.053186\tvalidation_0-f1:0.388489\n",
      "[520]\tvalidation_0-error:0.05329\tvalidation_0-f1:0.386555\n",
      "[521]\tvalidation_0-error:0.05329\tvalidation_0-f1:0.386555\n",
      "[522]\tvalidation_0-error:0.05329\tvalidation_0-f1:0.386555\n",
      "[523]\tvalidation_0-error:0.05329\tvalidation_0-f1:0.386555\n",
      "[524]\tvalidation_0-error:0.05329\tvalidation_0-f1:0.386555\n",
      "[525]\tvalidation_0-error:0.05329\tvalidation_0-f1:0.386555\n",
      "[526]\tvalidation_0-error:0.05329\tvalidation_0-f1:0.386555\n",
      "[527]\tvalidation_0-error:0.05329\tvalidation_0-f1:0.386555\n",
      "[528]\tvalidation_0-error:0.05329\tvalidation_0-f1:0.386555\n",
      "[529]\tvalidation_0-error:0.05329\tvalidation_0-f1:0.386555\n",
      "[530]\tvalidation_0-error:0.05329\tvalidation_0-f1:0.386555\n",
      "[531]\tvalidation_0-error:0.053186\tvalidation_0-f1:0.388489\n",
      "[532]\tvalidation_0-error:0.053186\tvalidation_0-f1:0.388489\n",
      "[533]\tvalidation_0-error:0.053082\tvalidation_0-f1:0.390419\n",
      "[534]\tvalidation_0-error:0.053082\tvalidation_0-f1:0.390419\n",
      "[535]\tvalidation_0-error:0.053082\tvalidation_0-f1:0.390419\n",
      "[536]\tvalidation_0-error:0.053082\tvalidation_0-f1:0.390419\n",
      "[537]\tvalidation_0-error:0.053082\tvalidation_0-f1:0.390419\n",
      "[538]\tvalidation_0-error:0.053082\tvalidation_0-f1:0.390419\n",
      "[539]\tvalidation_0-error:0.053082\tvalidation_0-f1:0.390419\n",
      "[540]\tvalidation_0-error:0.053082\tvalidation_0-f1:0.390419\n",
      "[541]\tvalidation_0-error:0.052977\tvalidation_0-f1:0.392344\n",
      "[542]\tvalidation_0-error:0.052769\tvalidation_0-f1:0.396181\n",
      "[543]\tvalidation_0-error:0.052769\tvalidation_0-f1:0.396181\n",
      "[544]\tvalidation_0-error:0.052769\tvalidation_0-f1:0.396181\n",
      "[545]\tvalidation_0-error:0.052769\tvalidation_0-f1:0.396181\n",
      "[546]\tvalidation_0-error:0.052769\tvalidation_0-f1:0.396181\n",
      "[547]\tvalidation_0-error:0.052769\tvalidation_0-f1:0.396181\n",
      "[548]\tvalidation_0-error:0.052769\tvalidation_0-f1:0.396181\n",
      "[549]\tvalidation_0-error:0.052769\tvalidation_0-f1:0.396181\n",
      "[550]\tvalidation_0-error:0.052769\tvalidation_0-f1:0.396181\n",
      "[551]\tvalidation_0-error:0.052769\tvalidation_0-f1:0.396181\n",
      "[552]\tvalidation_0-error:0.052769\tvalidation_0-f1:0.396181\n",
      "[553]\tvalidation_0-error:0.052769\tvalidation_0-f1:0.396181\n",
      "[554]\tvalidation_0-error:0.052769\tvalidation_0-f1:0.396181\n",
      "[555]\tvalidation_0-error:0.052769\tvalidation_0-f1:0.397619\n",
      "[556]\tvalidation_0-error:0.052769\tvalidation_0-f1:0.397619\n",
      "[557]\tvalidation_0-error:0.052977\tvalidation_0-f1:0.395238\n",
      "[558]\tvalidation_0-error:0.052873\tvalidation_0-f1:0.397146\n",
      "[559]\tvalidation_0-error:0.052769\tvalidation_0-f1:0.39905\n",
      "[560]\tvalidation_0-error:0.052769\tvalidation_0-f1:0.39905\n",
      "[561]\tvalidation_0-error:0.052769\tvalidation_0-f1:0.39905\n"
     ]
    },
    {
     "name": "stdout",
     "output_type": "stream",
     "text": [
      "[562]\tvalidation_0-error:0.052769\tvalidation_0-f1:0.39905\n",
      "[563]\tvalidation_0-error:0.052769\tvalidation_0-f1:0.39905\n",
      "[564]\tvalidation_0-error:0.052769\tvalidation_0-f1:0.39905\n",
      "[565]\tvalidation_0-error:0.052769\tvalidation_0-f1:0.39905\n",
      "[566]\tvalidation_0-error:0.052769\tvalidation_0-f1:0.39905\n",
      "[567]\tvalidation_0-error:0.052769\tvalidation_0-f1:0.39905\n",
      "[568]\tvalidation_0-error:0.051935\tvalidation_0-f1:0.414118\n",
      "[569]\tvalidation_0-error:0.051935\tvalidation_0-f1:0.414118\n",
      "[570]\tvalidation_0-error:0.05183\tvalidation_0-f1:0.415981\n",
      "[571]\tvalidation_0-error:0.05183\tvalidation_0-f1:0.415981\n",
      "[572]\tvalidation_0-error:0.05183\tvalidation_0-f1:0.415981\n",
      "[573]\tvalidation_0-error:0.05183\tvalidation_0-f1:0.415981\n",
      "[574]\tvalidation_0-error:0.05183\tvalidation_0-f1:0.415981\n",
      "[575]\tvalidation_0-error:0.05183\tvalidation_0-f1:0.415981\n",
      "[576]\tvalidation_0-error:0.051935\tvalidation_0-f1:0.414118\n",
      "[577]\tvalidation_0-error:0.05183\tvalidation_0-f1:0.415981\n",
      "[578]\tvalidation_0-error:0.051726\tvalidation_0-f1:0.41784\n",
      "[579]\tvalidation_0-error:0.051726\tvalidation_0-f1:0.41784\n",
      "[580]\tvalidation_0-error:0.051622\tvalidation_0-f1:0.419695\n",
      "[581]\tvalidation_0-error:0.051622\tvalidation_0-f1:0.419695\n",
      "[582]\tvalidation_0-error:0.051622\tvalidation_0-f1:0.419695\n",
      "[583]\tvalidation_0-error:0.051622\tvalidation_0-f1:0.419695\n",
      "[584]\tvalidation_0-error:0.051622\tvalidation_0-f1:0.419695\n",
      "[585]\tvalidation_0-error:0.051517\tvalidation_0-f1:0.421546\n",
      "[586]\tvalidation_0-error:0.051517\tvalidation_0-f1:0.421546\n",
      "[587]\tvalidation_0-error:0.051517\tvalidation_0-f1:0.421546\n",
      "[588]\tvalidation_0-error:0.051517\tvalidation_0-f1:0.421546\n",
      "[589]\tvalidation_0-error:0.051517\tvalidation_0-f1:0.421546\n",
      "[590]\tvalidation_0-error:0.051517\tvalidation_0-f1:0.421546\n",
      "[591]\tvalidation_0-error:0.051517\tvalidation_0-f1:0.421546\n",
      "[592]\tvalidation_0-error:0.051517\tvalidation_0-f1:0.421546\n",
      "[593]\tvalidation_0-error:0.051517\tvalidation_0-f1:0.421546\n",
      "[594]\tvalidation_0-error:0.051517\tvalidation_0-f1:0.421546\n",
      "[595]\tvalidation_0-error:0.051517\tvalidation_0-f1:0.421546\n",
      "[596]\tvalidation_0-error:0.051517\tvalidation_0-f1:0.421546\n",
      "[597]\tvalidation_0-error:0.051517\tvalidation_0-f1:0.421546\n",
      "[598]\tvalidation_0-error:0.051517\tvalidation_0-f1:0.421546\n",
      "[599]\tvalidation_0-error:0.051517\tvalidation_0-f1:0.421546\n"
     ]
    },
    {
     "data": {
      "text/plain": [
       "XGBClassifier(base_score=0.5, booster='gbtree', colsample_bylevel=1,\n",
       "              colsample_bynode=1, colsample_bytree=0.8, gamma=1.5,\n",
       "              learning_rate=0.02, max_delta_step=0, max_depth=5,\n",
       "              min_child_weight=1, missing=None, n_estimators=600, n_jobs=1,\n",
       "              nthread=1, objective='binary:logistic', random_state=0,\n",
       "              reg_alpha=0, reg_lambda=1, scale_pos_weight=1, seed=None,\n",
       "              silent=True, subsample=0.6, verbosity=1)"
      ]
     },
     "execution_count": 34,
     "metadata": {},
     "output_type": "execute_result"
    }
   ],
   "source": [
    "eval_set = [(X_test, y_test)]\n",
    "model.fit(X_train, y_train, eval_metric= xgb_f1 , eval_set=eval_set, verbose=True)"
   ]
  },
  {
   "cell_type": "code",
   "execution_count": 35,
   "metadata": {},
   "outputs": [],
   "source": [
    "y_pred = model.predict(X_test)"
   ]
  },
  {
   "cell_type": "code",
   "execution_count": 36,
   "metadata": {},
   "outputs": [],
   "source": [
    "from sklearn import metrics\n",
    "from sklearn.metrics import classification_report, roc_auc_score"
   ]
  },
  {
   "cell_type": "code",
   "execution_count": 37,
   "metadata": {},
   "outputs": [
    {
     "name": "stdout",
     "output_type": "stream",
     "text": [
      "              precision    recall  f1-score   support\n",
      "\n",
      "           0       0.95      1.00      0.97      8940\n",
      "           1       0.88      0.28      0.42       649\n",
      "\n",
      "    accuracy                           0.95      9589\n",
      "   macro avg       0.91      0.64      0.70      9589\n",
      "weighted avg       0.95      0.95      0.94      9589\n",
      "\n"
     ]
    }
   ],
   "source": [
    "print(classification_report(y_test, y_pred))"
   ]
  },
  {
   "cell_type": "code",
   "execution_count": 38,
   "metadata": {},
   "outputs": [],
   "source": [
    "from sklearn.pipeline import Pipeline\n",
    "\n",
    "pipeline = Pipeline([\n",
    "    ('bow', CountVectorizer(analyzer=text_process)),  # strings to token integer counts\n",
    "    ('tfidf', TfidfTransformer()),  # integer counts to weighted TF-IDF scores\n",
    "    ('classifier', model),  # train on TF-IDF vectors w/ Naive Bayes classifier\n",
    "])"
   ]
  },
  {
   "cell_type": "code",
   "execution_count": 40,
   "metadata": {},
   "outputs": [
    {
     "data": {
      "text/plain": [
       "Pipeline(memory=None,\n",
       "         steps=[('bow',\n",
       "                 CountVectorizer(analyzer=<function text_process at 0x00000128B9D00C18>,\n",
       "                                 binary=False, decode_error='strict',\n",
       "                                 dtype=<class 'numpy.int64'>, encoding='utf-8',\n",
       "                                 input='content', lowercase=True, max_df=1.0,\n",
       "                                 max_features=None, min_df=1,\n",
       "                                 ngram_range=(1, 1), preprocessor=None,\n",
       "                                 stop_words=None, strip_accents=None,\n",
       "                                 token_pattern='(?u)\\\\b\\\\w\\\\w...\n",
       "                 XGBClassifier(base_score=0.5, booster='gbtree',\n",
       "                               colsample_bylevel=1, colsample_bynode=1,\n",
       "                               colsample_bytree=0.8, gamma=1.5,\n",
       "                               learning_rate=0.02, max_delta_step=0,\n",
       "                               max_depth=5, min_child_weight=1, missing=None,\n",
       "                               n_estimators=600, n_jobs=1, nthread=1,\n",
       "                               objective='binary:logistic', random_state=0,\n",
       "                               reg_alpha=0, reg_lambda=1, scale_pos_weight=1,\n",
       "                               seed=None, silent=True, subsample=0.6,\n",
       "                               verbosity=1))],\n",
       "         verbose=False)"
      ]
     },
     "execution_count": 40,
     "metadata": {},
     "output_type": "execute_result"
    }
   ],
   "source": [
    "pipeline.fit(train_df['tweet'],y)"
   ]
  },
  {
   "cell_type": "code",
   "execution_count": 41,
   "metadata": {},
   "outputs": [],
   "source": [
    "predictions = pipeline.predict(test_df['tweet'])"
   ]
  },
  {
   "cell_type": "code",
   "execution_count": 42,
   "metadata": {},
   "outputs": [
    {
     "data": {
      "text/plain": [
       "array([0, 0, 0, ..., 0, 0, 0], dtype=int64)"
      ]
     },
     "execution_count": 42,
     "metadata": {},
     "output_type": "execute_result"
    }
   ],
   "source": [
    "predictions"
   ]
  },
  {
   "cell_type": "code",
   "execution_count": 43,
   "metadata": {},
   "outputs": [],
   "source": [
    "submission = pd.DataFrame({ \"id\": test_df[\"id\"],\n",
    "                            \"label\": predictions })\n",
    "submission.to_csv('submission_XGB.csv', index=False)"
   ]
  },
  {
   "cell_type": "code",
   "execution_count": null,
   "metadata": {},
   "outputs": [],
   "source": []
  },
  {
   "cell_type": "code",
   "execution_count": null,
   "metadata": {},
   "outputs": [],
   "source": []
  },
  {
   "cell_type": "code",
   "execution_count": null,
   "metadata": {},
   "outputs": [],
   "source": []
  }
 ],
 "metadata": {
  "kernelspec": {
   "display_name": "Python 3",
   "language": "python",
   "name": "python3"
  },
  "language_info": {
   "codemirror_mode": {
    "name": "ipython",
    "version": 3
   },
   "file_extension": ".py",
   "mimetype": "text/x-python",
   "name": "python",
   "nbconvert_exporter": "python",
   "pygments_lexer": "ipython3",
   "version": "3.7.7"
  }
 },
 "nbformat": 4,
 "nbformat_minor": 4
}
